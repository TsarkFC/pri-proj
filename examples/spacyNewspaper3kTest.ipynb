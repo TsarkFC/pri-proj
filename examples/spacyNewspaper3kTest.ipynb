{
 "cells": [
  {
   "cell_type": "code",
   "execution_count": 1,
   "id": "coordinated-irrigation",
   "metadata": {},
   "outputs": [
    {
     "name": "stderr",
     "output_type": "stream",
     "text": [
      "[nltk_data] Downloading package stopwords to\n",
      "[nltk_data]     /home/rafaavc/nltk_data...\n",
      "[nltk_data]   Package stopwords is already up-to-date!\n",
      "[nltk_data] Downloading package punkt to /home/rafaavc/nltk_data...\n",
      "[nltk_data]   Package punkt is already up-to-date!\n",
      "[nltk_data] Downloading package wordnet to /home/rafaavc/nltk_data...\n",
      "[nltk_data]   Package wordnet is already up-to-date!\n"
     ]
    }
   ],
   "source": [
    "import spacy\n",
    "\n",
    "from newspaper import Article\n",
    "import text2emotion as te\n",
    "\n",
    "url = \"https://www.publico.pt/2021/01/29/p3/cronica/gamestop-wall-street-primeira-revolta-popular-financeira-1948514\"\n",
    "article = Article(url)\n",
    "\n",
    "article.download()\n",
    "\n",
    "article.parse()\n",
    "\n",
    "article.nlp()\n",
    "\n",
    "nlp = spacy.load(\"pt_core_news_sm\")"
   ]
  },
  {
   "cell_type": "code",
   "execution_count": 2,
   "id": "injured-murder",
   "metadata": {},
   "outputs": [
    {
     "data": {
      "text/plain": [
       "['Tomás Neves', 'Jurista E Copywriter']"
      ]
     },
     "execution_count": 2,
     "metadata": {},
     "output_type": "execute_result"
    }
   ],
   "source": [
    "article.authors"
   ]
  },
  {
   "cell_type": "code",
   "execution_count": 3,
   "id": "spatial-waters",
   "metadata": {},
   "outputs": [
    {
     "data": {
      "text/plain": [
       "datetime.datetime(2021, 1, 29, 0, 0)"
      ]
     },
     "execution_count": 3,
     "metadata": {},
     "output_type": "execute_result"
    }
   ],
   "source": [
    "article.publish_date"
   ]
  },
  {
   "cell_type": "code",
   "execution_count": 4,
   "id": "mathematical-television",
   "metadata": {},
   "outputs": [
    {
     "data": {
      "text/plain": [
       "'Creio não estar a ser hiperbólico ao afirmar que acabámos de assistir à primeira revolta popular do seu género, baseada na manipulação dos mercados financeiros e organizada no Reddit, uma rede social, de forma completamente pública.\\n\\nWall Street foi apanhada de surpresa. Nos últimos dias, uma série de grandes fundos de investimento americanos sofreram perdas na ordem dos milhares de milhões de dólares, tudo devido à acção semi-coordenada de uma horda de investidores de retalho. Creio não estar a ser hiperbólico ao afirmar que acabámos de assistir à primeira revolta popular do seu género, baseada na manipulação dos mercados financeiros e organizada no Reddit, uma rede social, de forma completamente pública.\\n\\nTudo começou no subreddit WallStreetBets, um fórum online onde investidores amadores trocam ideias sobre os seus investimentos. No início de 2019, um utilizador chamou a atenção para o facto de que as acções da GameStop, uma cadeia de lojas especializadas em videojogos, estavam subvalorizadas (tendo em conta as características económico-financeiras da empresa). Em Junho do mesmo ano, outro membro do fórum calculou que se o preço por unidade descesse até aos 50 cêntimos, comprar todas as acções existentes “só” custaria 45 milhões de dólares – algo que a comunidade do WallStreetBets poderia fazer em conjunto. A ideia foi ganhando tracção ao longo de vários meses, mas com a chegada da crise pandémica o mercado caiu e o ímpeto morreu – temporariamente.\\n\\nDurante o confinamento, um grande número de novos investidores entrou no mercado. Curiosamente, vários destes pequenos investidores foram capazes de prever – ou pelo menos, de aproveitar – a rápida recuperação que se verificou nos mercados financeiros, particularmente nos Estados Unidos. Ao mesmo tempo, o fórum WallStreetBets ia ganhando membros, cuja atenção se voltou a virar para a GameStop.\\n\\nDe forma algo irónica, as elites financeiras de Wall Street tornaram-se repentinamente bastante favoráveis em relação à regulação do sector financeiro (depois de anos a defender a liberalização do mesmo). Aparentemente, manipular o mercado só é aceitável quando é feito pelos suspeitos do costume.\\n\\nA GameStop é (ou era) uma das empresas com maior volume de “apostas” de hedge funds contra si – a certo ponto, mais de 100% das suas acções estavam a ser shorted, ou “vendidas por empréstimo” (possível devido à existência de derivados financeiros). Baseando-se nesse facto, outro utilizador lançou o seguinte repto em Abril de 2020: a GameStop vai valorizar, portanto comprem acções e telefonem às vossas correctoras de modo a proibir o empréstimo dos vossos títulos a short sellers (ou seja, a investidores que apostam contra a empresa).\\n\\nDurante vários meses, o movimento a favor da GameStop foi crescendo e crescendo, levantando-se ao mesmo tempo uma onda de antagonismo relativamente às elites financeiras que investiam contra a empresa em volumes excessivamente elevados, muito para além do que se pode considerar uma gestão de risco prudente. No entanto, só no início de 2021 é que o ponto crítico foi atingido. A união improvável e inédita dos investidores do WallStreetBets resultou melhor do que qualquer um deles poderia ter imaginado.\\n\\nHá pouco mais de duas semanas, no dia 12 de Janeiro, as acções da empresa custavam 20 dólares. No dia 28 o preço de cada unidade chegou a atingir os 450 dólares, tudo devido à gigantesca investida popular que se verificou nos últimos dias. Alguns dos hedge funds visados, que mantiveram as suas posições contra a GameStop abertas, sofreram perdas avultadas. Um deles, o Melvin Capital Management, necessitou de uma injecção de capital substancial para se poder manter em actividade. O resultado: centenas de milhões de dólares distribuídos por um grupo de investidores amadores. Será esta a versão moderna do American Dream?\\n\\nDe forma algo irónica, as elites financeiras de Wall Street tornaram-se repentinamente bastante favoráveis em relação à regulação do sector financeiro (depois de anos a defender a liberalização do mesmo). Aparentemente, manipular o mercado só é aceitável quando é feito pelos suspeitos do costume. Mas quando são pessoas comuns a jogar o mesmo jogo, afinal já se torna necessária a existência de regras. Não estará na altura de assumirem um pouco de responsabilidade pessoal pelas suas más escolhas?\\n\\nMuito em breve, começará a discussão sobre se o que se passou pode (ou deve) ser considerado manipulação de mercado. Será certamente um debate interessante, mas suspeito que no final de contas a posição das grandes instituições financeiras acabará ainda mais reforçada. Espero estar enganado.'"
      ]
     },
     "execution_count": 4,
     "metadata": {},
     "output_type": "execute_result"
    }
   ],
   "source": [
    "article.text"
   ]
  },
  {
   "cell_type": "code",
   "execution_count": 5,
   "id": "distinct-newsletter",
   "metadata": {},
   "outputs": [
    {
     "data": {
      "text/plain": [
       "{'Happy': 0.05, 'Angry': 0.25, 'Surprise': 0.0, 'Sad': 0.15, 'Fear': 0.55}"
      ]
     },
     "execution_count": 5,
     "metadata": {},
     "output_type": "execute_result"
    }
   ],
   "source": [
    "te.get_emotion(article.text)"
   ]
  },
  {
   "cell_type": "code",
   "execution_count": 6,
   "id": "pretty-fusion",
   "metadata": {},
   "outputs": [
    {
     "data": {
      "text/plain": [
       "'https://imagens.publico.pt/imagens.aspx/1548831?tp=UH&db=IMAGENS&type=JPG&share=1&o=BarraFacebook_P3.png'"
      ]
     },
     "execution_count": 6,
     "metadata": {},
     "output_type": "execute_result"
    }
   ],
   "source": [
    "article.top_image"
   ]
  },
  {
   "cell_type": "code",
   "execution_count": 7,
   "id": "smoking-eight",
   "metadata": {},
   "outputs": [
    {
     "data": {
      "text/plain": [
       "[]"
      ]
     },
     "execution_count": 7,
     "metadata": {},
     "output_type": "execute_result"
    }
   ],
   "source": [
    "article.movies"
   ]
  },
  {
   "cell_type": "code",
   "execution_count": 8,
   "id": "helpful-chancellor",
   "metadata": {},
   "outputs": [
    {
     "data": {
      "text/plain": [
       "['um',\n",
       " 'é',\n",
       " 'em',\n",
       " 'mesmo',\n",
       " 'que',\n",
       " 'dos',\n",
       " 'popular',\n",
       " 'financeira',\n",
       " 'uma',\n",
       " 'contra',\n",
       " 'primeira',\n",
       " 'gamestop',\n",
       " 'à',\n",
       " 'se',\n",
       " 'revolta',\n",
       " 'wall',\n",
       " 'street',\n",
       " 'investidores']"
      ]
     },
     "execution_count": 8,
     "metadata": {},
     "output_type": "execute_result"
    }
   ],
   "source": [
    "article.keywords"
   ]
  },
  {
   "cell_type": "code",
   "execution_count": 9,
   "id": "military-stylus",
   "metadata": {},
   "outputs": [
    {
     "data": {
      "text/plain": [
       "'No entanto, só no início de 2021 é que o ponto crítico foi atingido.\\nA união improvável e inédita dos investidores do WallStreetBets resultou melhor do que qualquer um deles poderia ter imaginado.\\nNo dia 28 o preço de cada unidade chegou a atingir os 450 dólares, tudo devido à gigantesca investida popular que se verificou nos últimos dias.\\nAlguns dos hedge funds visados, que mantiveram as suas posições contra a GameStop abertas, sofreram perdas avultadas.\\nMuito em breve, começará a discussão sobre se o que se passou pode (ou deve) ser considerado manipulação de mercado.'"
      ]
     },
     "execution_count": 9,
     "metadata": {},
     "output_type": "execute_result"
    }
   ],
   "source": [
    "article.summary"
   ]
  },
  {
   "cell_type": "code",
   "execution_count": 10,
   "id": "subject-password",
   "metadata": {},
   "outputs": [
    {
     "data": {
      "text/plain": [
       "{'data:image/gif;base64,R0lGODlhAQABAAAAACH5BAEKAAEALAAAAAABAAEAAAICTAEAOw==',\n",
       " 'data:image/png;base64,iVBORw0KGgoAAAANSUhEUgAAAGQAAABkCAMAAABHPGVmAAAACXBIWXMAAAsTAAALEwEAmpwYAAAAAXNSR0IArs4c6QAAAARnQU1BAACxjwv8YQUAAADbUExURQAAAACfzwCvz////wC13v///wCn1wCv1wCv3////wCq1ACv2v///wCu2////wCr1wCr2wCv1wCv2////wCu2ACu2////////wCu2QCu3P///wCt1wCt2v///wCs2ACv2gCv3f///wCt2P///wCt2QCt2wCv2QCv2////wCr2QCt2f///wCt2gCv2////wCu2v///wCv2gCv3P///////wCt2QCv2////wCu2gCu2wCv2gCv2////wCu2QCu2gCu2////wCu2QCu2v///wCu2gCu2////wCu2v///2Y9C9UAAABHdFJOUwAQEBAfHyAgICAwMDA/P0BAQEBAT09PUF9fX2BgYG9vb29wcH9/f39/gICAj4+PkJCfn5+gr6+vv7+/v7/Pz8/P39/f7+/vBqMpswAAA+5JREFUaN7tmG9/kzAQx6l0q2itbsx1rcONda7oOhxG21pxo0CB9/+KBEIhQCAcf9yT/h7sMw64b3K5S45y3EEHHXRQrNcT/8+p67pmoKffgZY/As199VogvLr+45oRhKo3zRHfdr4fuwzyrhWErw4hp+beURlk0mga3xNH/uVlF5DBE+Go3w1kYLoVIXM/x+sx3u5cAOSPqX1oOg82JCjUyaAZIyi4QojGcVr0HwijUWrhmg0BYS5pBTevAnHNm6oQM+forASyTs/cHNScSFALVSGuXalwnptBXPdrhRJxYRAznyhsCi2NrmAQNmVJL7gHCMR9D1+SAKIVQVzaLE3GobxrA+J+KYfQ/CzAELsHhmhlkD41KSbgcNWAaOCFrwExYVuwr1/4zChqV2gQG1yM67YhJ1DIWY1w0Va+FDKhnprrcsgDdVhQyJyDxqsGhNW9bmCQOQ2yZe3DJzTIMwxywTxSNpT9ySyELCiQLftwPN5BIBq9vWHqpiHktlLHcpd5qweC3Fbsve6ym2AxZJ35QLI/V24j7+pC1seAhvh4m4IUMty/BMReQD8hP22Itr4YYnKD5eZpu91oV7U+Uo+vNnaUkjT39napzS+afmMH6vX7/V7q6Me+P/bb+C2C3l8sOvCdhdxyXep/MAZghiBPhToQCEPyPM8awiGgWFk+xNPBEBBj6IWCQmBrzocMCwiB5pUaQKZd/3Ip6avRC/94KsgqUuTCHB/KCKnykBcCxUswVnyjGF8KWHyBD1HHeeHpw9LbFpE9/L0TGaNFUKKHEJ3x6CW6z9++99LCc3MSA+LZkMeUixmL4RElEcngWZBZNGsdB8MR8ltFDiJYaZPKgODnV8FYJGf/Qnar8PTpaIQSCIqNKr7vL/8YIacIIhFVGg7G8XlSJJ4TQx8KMR4fIuSMejIgGiTMnBX2OduPah+GI1zE+/fECBIOzCB3LIcvhTi5mE9JSDiGOLENDAmjdZ4a5rAUkmMEYUggRmpfRfhKx/c4IsijxpC4iFcYskpBVDYkvCGPCPk5PI3EY39i6uHIrZyKYXm4Vkmi0CSTh92MXHiLz6VnIST04sRLy1MPIiQQZesbw2wxQqNIFEchBL/gIR8jjFVHpx5EnoVkVU+KUdkblcgolEP249tLzA7ComwrWaPCMSDcz9TzOn3fyWyQaaPCMSFRRMgdtZSCjXp87chcBQgnxW4MahsgGdjbimx5JIxxVIGrBAnOVxUhJBd2Afxoen4UbfukcTps6fzn05up0UmTYelj8ghVO+mlgsDrKDqScidnSxNJ55bcBUOkll3bGiUV4Vnj7tpLJehkHAu9dJ970EEH1dM/Y0GPtkirTAsAAAAASUVORK5CYII=',\n",
       " 'https://imagens.publico.pt/imagens.aspx/1548831?tp=UH&db=IMAGENS&type=JPG&share=1&o=BarraFacebook_P3.png',\n",
       " 'https://imagens.publico.pt/imagens.aspx/1548833?tp=UH&db=IMAGENS&type=PNG&w=72&h=72&act=cropResize',\n",
       " 'https://s.publico.pt/NOTICIA/1948514',\n",
       " 'https://s.publico.pt/bolsas/1948514',\n",
       " 'https://s.publico.pt/coronavirus/1948514',\n",
       " 'https://s.publico.pt/covid19/1948514',\n",
       " 'https://s.publico.pt/mercados/1948514',\n",
       " 'https://s.publico.pt/p3/1948514',\n",
       " 'https://s.publico.pt/p3cronica/1948514',\n",
       " 'https://s.publico.pt/tecnologia/1948514',\n",
       " 'https://s.publico.pt/wall-street/1948514'}"
      ]
     },
     "execution_count": 10,
     "metadata": {},
     "output_type": "execute_result"
    }
   ],
   "source": [
    "article.images"
   ]
  },
  {
   "cell_type": "code",
   "execution_count": 11,
   "id": "blessed-scope",
   "metadata": {},
   "outputs": [],
   "source": [
    "text = (\"O chanceler austríaco, Sebastian Kurz, anunciou este \"\n",
    "    \"domingo através do Twitter que o seu país vai receber \"\n",
    "    \"doentes portugueses em cuidados intensivos por covid-19, \"\n",
    "    \"em sinal de \\\"solidariedade europeia\\\", refere a agência EFE.\"\n",
    "    \"\\\"A pandemia da covid-19 representa enormes desafios para \"\n",
    "    \"todos os países europeus. É uma exigência de solidariedade \"\n",
    "    \"europeia ajudar rapidamente e sem burocracia para salvar vidas\\\"\"\n",
    "    \", escreveu o governante conservador.\")\n",
    "doc = nlp(article.text)"
   ]
  },
  {
   "cell_type": "code",
   "execution_count": 12,
   "id": "macro-bride",
   "metadata": {},
   "outputs": [
    {
     "name": "stdout",
     "output_type": "stream",
     "text": [
      "Noun phrases: []\n",
      "Nouns: ['revolto', 'género', 'manipulação', 'mercar', 'redar', 'formar', 'surpreso', 'dia', 'série', 'fundo', 'investimento', 'perda', 'ordem', 'milhar', 'dólar', 'acção', 'horda', 'investidor', 'retalhar', 'revolto', 'género', 'manipulação', 'mercar', 'redar', 'formar', 'subreddit', 'fórum', 'investidor', 'ideia', 'investimento', 'início', 'utilizador', 'atenção', 'facto', 'acção', 'cadeia', 'loja', 'videojogo', 'subvalorizar', 'contar', 'característico', 'empresar', 'Junho', 'ano', 'membro', 'fórum', 'preço', 'unidade', 'cêntimo', 'acção', '“', 'dólar', 'comunidade', 'conjuntar', 'idear', 'tracção', 'longo', 'mês', 'chegar', 'crise', 'mercar', 'ímpeto', '–', 'confinamento', 'número', 'investidor', 'mercar', 'investidor', '–', 'menos', '–', 'recuperação', 'mercar', 'tempo', 'fórum', 'membro', 'atenção', 'formar', 'elite', 'relação', 'regulação', 'sector', 'ano', 'liberalização', 'mercar', 'suspeito', 'costumar', 'empresar', 'volumar', 'aposto', 'hedge', 'pontar', 'acção', 'empréstimo', 'existência', 'financeiro', 'facto', 'utilizador', 'reptar', 'Abril', 'acção', 'corrector', 'modo', 'empréstimo', 'título', 'investidor', 'empresar', 'mês', 'movimentar', 'favor', 'tempo', 'onda', 'antagonismo', 'elite', 'empresar', 'volume', 'gestão', 'riscar', 'entanto', 'início', 'pontar', 'união', 'investidor', 'semana', 'dia', 'Janeiro', 'acção', 'empresar', 'dólar', 'dia', 'preço', 'unidade', 'dólar', 'gigantesco', 'dia', 'hedge', 'posição', 'perda', 'injecção', 'capital', 'actividade', 'resultar', 'centena', 'dólar', 'grupar', 'investidor', 'versão', 'formar', 'elite', 'relação', 'regulação', 'sector', 'ano', 'liberalização', 'mercar', 'suspeito', 'costumar', 'pessoa', 'jogar', 'existência', 'regrar', 'altura', 'responsabilidade', 'escolher', 'breve', 'discussão', 'manipulação', 'mercar', 'debater', 'final', 'contar', 'posição', 'instituição']\n",
      "Verbs: ['Creio', 'estar', 'afirmar', 'acabar', 'assistir', 'basear', 'organizar', 'apanhar', 'sofrer', 'semi-coordenada', 'Creio', 'estar', 'afirmar', 'acabar', 'assistir', 'basear', 'organizar', 'começar', 'trocar', 'chamar', 'especializar', 'ter', 'calcular', 'descer', 'comprar', 'custar', 'poder', 'fazer', 'ganhar', 'cair', 'morrer', 'entrar', 'prever', 'aproveitar', 'verificar', 'ganhar', 'voltar', 'virar', 'tornaram-se', 'defender', 'manipular', 'fazer', 'estar', 'vendido', 'Baseando-se', 'lançar', 'valorizar', 'comprar', 'telefonar', 'proibir', 'ser', 'apostar', 'crescer', 'crescer', 'levantando-se', 'investir', 'elevar', 'poder', 'considerar', 'atingir', 'resultar', 'poder', 'imaginar', 'Há', 'custar', 'chegar', 'atingir', 'investir', 'verificar', 'visar', 'manter', 'sofrer', 'necessitar', 'poder', 'manter', 'distribuir', 'tornaram-se', 'defender', 'manipular', 'fazer', 'jogar', 'tornar', 'estar', 'assumir', 'começar', 'passar', 'poder', 'dever', 'considerar', 'suspeitar', 'acabar', 'reforçar', 'Espero', 'enganar']\n"
     ]
    }
   ],
   "source": [
    "print(\"Noun phrases:\", [chunk.text for chunk in doc.noun_chunks])\n",
    "print(\"Nouns:\", [token.lemma_ for token in doc if token.pos_ == \"NOUN\"])\n",
    "print(\"Verbs:\", [token.lemma_ for token in doc if token.pos_ == \"VERB\"])"
   ]
  },
  {
   "cell_type": "code",
   "execution_count": 13,
   "id": "initial-might",
   "metadata": {},
   "outputs": [
    {
     "name": "stdout",
     "output_type": "stream",
     "text": [
      "Creio MISC\n",
      "Reddit LOC\n",
      "Creio MISC\n",
      "Reddit LOC\n",
      "WallStreetBets MISC\n",
      "GameStop MISC\n",
      "Junho MISC\n",
      "WallStreetBets MISC\n",
      "Estados Unidos LOC\n",
      "fórum WallStreetBets ORG\n",
      "GameStop MISC\n",
      "Wall Street LOC\n",
      "GameStop MISC\n",
      "Abril de 2020 MISC\n",
      "GameStop MISC\n",
      "GameStop MISC\n",
      "WallStreetBets MISC\n",
      "GameStop MISC\n",
      "Melvin Capital Management MISC\n",
      "American Dream MISC\n",
      "Wall Street LOC\n"
     ]
    }
   ],
   "source": [
    "for entity in doc.ents:\n",
    "    print(entity.text, entity.label_)"
   ]
  },
  {
   "cell_type": "code",
   "execution_count": null,
   "id": "downtown-encyclopedia",
   "metadata": {},
   "outputs": [],
   "source": []
  },
  {
   "cell_type": "code",
   "execution_count": null,
   "id": "hired-associate",
   "metadata": {},
   "outputs": [],
   "source": []
  }
 ],
 "metadata": {
  "kernelspec": {
   "display_name": "Python 3",
   "language": "python",
   "name": "python3"
  },
  "language_info": {
   "codemirror_mode": {
    "name": "ipython",
    "version": 3
   },
   "file_extension": ".py",
   "mimetype": "text/x-python",
   "name": "python",
   "nbconvert_exporter": "python",
   "pygments_lexer": "ipython3",
   "version": "3.8.10"
  }
 },
 "nbformat": 4,
 "nbformat_minor": 5
}
